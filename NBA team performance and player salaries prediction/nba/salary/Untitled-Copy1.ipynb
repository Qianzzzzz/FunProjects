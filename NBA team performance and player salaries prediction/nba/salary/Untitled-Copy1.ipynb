{
 "cells": [
  {
   "cell_type": "code",
   "execution_count": 142,
   "id": "fdad0960",
   "metadata": {},
   "outputs": [
    {
     "data": {
      "text/html": [
       "<div>\n",
       "<style scoped>\n",
       "    .dataframe tbody tr th:only-of-type {\n",
       "        vertical-align: middle;\n",
       "    }\n",
       "\n",
       "    .dataframe tbody tr th {\n",
       "        vertical-align: top;\n",
       "    }\n",
       "\n",
       "    .dataframe thead th {\n",
       "        text-align: right;\n",
       "    }\n",
       "</style>\n",
       "<table border=\"1\" class=\"dataframe\">\n",
       "  <thead>\n",
       "    <tr style=\"text-align: right;\">\n",
       "      <th></th>\n",
       "      <th>Unnamed: 0</th>\n",
       "      <th>Player Name</th>\n",
       "      <th>Salary</th>\n",
       "      <th>Position</th>\n",
       "      <th>Age</th>\n",
       "      <th>Team</th>\n",
       "      <th>GP</th>\n",
       "      <th>GS</th>\n",
       "      <th>MP</th>\n",
       "      <th>FG</th>\n",
       "      <th>...</th>\n",
       "      <th>TOV%</th>\n",
       "      <th>USG%</th>\n",
       "      <th>OWS</th>\n",
       "      <th>DWS</th>\n",
       "      <th>WS</th>\n",
       "      <th>WS/48</th>\n",
       "      <th>OBPM</th>\n",
       "      <th>DBPM</th>\n",
       "      <th>BPM</th>\n",
       "      <th>VORP</th>\n",
       "    </tr>\n",
       "  </thead>\n",
       "  <tbody>\n",
       "    <tr>\n",
       "      <th>0</th>\n",
       "      <td>0</td>\n",
       "      <td>Stephen Curry</td>\n",
       "      <td>48070014</td>\n",
       "      <td>PG</td>\n",
       "      <td>34</td>\n",
       "      <td>GSW</td>\n",
       "      <td>56</td>\n",
       "      <td>56</td>\n",
       "      <td>34.7</td>\n",
       "      <td>10.0</td>\n",
       "      <td>...</td>\n",
       "      <td>12.5</td>\n",
       "      <td>31.0</td>\n",
       "      <td>5.8</td>\n",
       "      <td>2.0</td>\n",
       "      <td>7.8</td>\n",
       "      <td>0.192</td>\n",
       "      <td>7.5</td>\n",
       "      <td>0.1</td>\n",
       "      <td>7.5</td>\n",
       "      <td>4.7</td>\n",
       "    </tr>\n",
       "    <tr>\n",
       "      <th>1</th>\n",
       "      <td>1</td>\n",
       "      <td>John Wall</td>\n",
       "      <td>47345760</td>\n",
       "      <td>PG</td>\n",
       "      <td>32</td>\n",
       "      <td>LAC</td>\n",
       "      <td>34</td>\n",
       "      <td>3</td>\n",
       "      <td>22.2</td>\n",
       "      <td>4.1</td>\n",
       "      <td>...</td>\n",
       "      <td>17.1</td>\n",
       "      <td>27.0</td>\n",
       "      <td>-0.4</td>\n",
       "      <td>0.7</td>\n",
       "      <td>0.3</td>\n",
       "      <td>0.020</td>\n",
       "      <td>-0.8</td>\n",
       "      <td>-0.4</td>\n",
       "      <td>-1.2</td>\n",
       "      <td>0.1</td>\n",
       "    </tr>\n",
       "    <tr>\n",
       "      <th>2</th>\n",
       "      <td>2</td>\n",
       "      <td>Russell Westbrook</td>\n",
       "      <td>47080179</td>\n",
       "      <td>PG</td>\n",
       "      <td>34</td>\n",
       "      <td>LAL/LAC</td>\n",
       "      <td>73</td>\n",
       "      <td>24</td>\n",
       "      <td>29.1</td>\n",
       "      <td>5.9</td>\n",
       "      <td>...</td>\n",
       "      <td>18.4</td>\n",
       "      <td>27.7</td>\n",
       "      <td>-0.6</td>\n",
       "      <td>2.6</td>\n",
       "      <td>1.9</td>\n",
       "      <td>0.044</td>\n",
       "      <td>0.3</td>\n",
       "      <td>-0.1</td>\n",
       "      <td>0.2</td>\n",
       "      <td>1.2</td>\n",
       "    </tr>\n",
       "    <tr>\n",
       "      <th>3</th>\n",
       "      <td>3</td>\n",
       "      <td>LeBron James</td>\n",
       "      <td>44474988</td>\n",
       "      <td>PF</td>\n",
       "      <td>38</td>\n",
       "      <td>LAL</td>\n",
       "      <td>55</td>\n",
       "      <td>54</td>\n",
       "      <td>35.5</td>\n",
       "      <td>11.1</td>\n",
       "      <td>...</td>\n",
       "      <td>11.6</td>\n",
       "      <td>33.3</td>\n",
       "      <td>3.2</td>\n",
       "      <td>2.4</td>\n",
       "      <td>5.6</td>\n",
       "      <td>0.138</td>\n",
       "      <td>5.5</td>\n",
       "      <td>0.6</td>\n",
       "      <td>6.1</td>\n",
       "      <td>4.0</td>\n",
       "    </tr>\n",
       "    <tr>\n",
       "      <th>4</th>\n",
       "      <td>4</td>\n",
       "      <td>Kevin Durant</td>\n",
       "      <td>44119845</td>\n",
       "      <td>PF</td>\n",
       "      <td>34</td>\n",
       "      <td>BRK/PHO</td>\n",
       "      <td>47</td>\n",
       "      <td>47</td>\n",
       "      <td>35.6</td>\n",
       "      <td>10.3</td>\n",
       "      <td>...</td>\n",
       "      <td>13.4</td>\n",
       "      <td>30.7</td>\n",
       "      <td>4.7</td>\n",
       "      <td>2.1</td>\n",
       "      <td>6.8</td>\n",
       "      <td>0.194</td>\n",
       "      <td>6.0</td>\n",
       "      <td>1.2</td>\n",
       "      <td>7.1</td>\n",
       "      <td>3.9</td>\n",
       "    </tr>\n",
       "  </tbody>\n",
       "</table>\n",
       "<p>5 rows × 52 columns</p>\n",
       "</div>"
      ],
      "text/plain": [
       "   Unnamed: 0        Player Name    Salary Position  Age     Team  GP  GS  \\\n",
       "0           0      Stephen Curry  48070014       PG   34      GSW  56  56   \n",
       "1           1          John Wall  47345760       PG   32      LAC  34   3   \n",
       "2           2  Russell Westbrook  47080179       PG   34  LAL/LAC  73  24   \n",
       "3           3       LeBron James  44474988       PF   38      LAL  55  54   \n",
       "4           4       Kevin Durant  44119845       PF   34  BRK/PHO  47  47   \n",
       "\n",
       "     MP    FG  ...  TOV%  USG%  OWS  DWS   WS  WS/48  OBPM  DBPM  BPM  VORP  \n",
       "0  34.7  10.0  ...  12.5  31.0  5.8  2.0  7.8  0.192   7.5   0.1  7.5   4.7  \n",
       "1  22.2   4.1  ...  17.1  27.0 -0.4  0.7  0.3  0.020  -0.8  -0.4 -1.2   0.1  \n",
       "2  29.1   5.9  ...  18.4  27.7 -0.6  2.6  1.9  0.044   0.3  -0.1  0.2   1.2  \n",
       "3  35.5  11.1  ...  11.6  33.3  3.2  2.4  5.6  0.138   5.5   0.6  6.1   4.0  \n",
       "4  35.6  10.3  ...  13.4  30.7  4.7  2.1  6.8  0.194   6.0   1.2  7.1   3.9  \n",
       "\n",
       "[5 rows x 52 columns]"
      ]
     },
     "execution_count": 142,
     "metadata": {},
     "output_type": "execute_result"
    }
   ],
   "source": [
    "import pandas as pd\n",
    "\n",
    "# Path to your CSV file\n",
    "file_path = 'NBA_Player_Salary_2022_2023.csv'  # Replace with your file path\n",
    "\n",
    "# Load the CSV file into a DataFrame\n",
    "game = pd.read_csv(file_path)\n",
    "\n",
    "# Display the first few rows of the DataFrame\n",
    "game.head()"
   ]
  },
  {
   "cell_type": "code",
   "execution_count": 143,
   "id": "b177169c",
   "metadata": {
    "scrolled": true
   },
   "outputs": [
    {
     "name": "stdout",
     "output_type": "stream",
     "text": [
      "Requirement already satisfied: pandas in /srv/conda/lib/python3.9/site-packages (1.3.5)\n",
      "Requirement already satisfied: scikit-learn in /srv/conda/lib/python3.9/site-packages (1.1.1)\n",
      "Requirement already satisfied: statsmodels in /srv/conda/lib/python3.9/site-packages (0.13.5)\n",
      "Requirement already satisfied: python-dateutil>=2.7.3 in /srv/conda/lib/python3.9/site-packages (from pandas) (2.8.0)\n",
      "Requirement already satisfied: pytz>=2017.3 in /srv/conda/lib/python3.9/site-packages (from pandas) (2021.1)\n",
      "Requirement already satisfied: numpy>=1.17.3 in /srv/conda/lib/python3.9/site-packages (from pandas) (1.26.2)\n",
      "Requirement already satisfied: scipy>=1.3.2 in /srv/conda/lib/python3.9/site-packages (from scikit-learn) (1.10.0)\n",
      "Requirement already satisfied: joblib>=1.0.0 in /srv/conda/lib/python3.9/site-packages (from scikit-learn) (1.3.1)\n",
      "Requirement already satisfied: threadpoolctl>=2.0.0 in /srv/conda/lib/python3.9/site-packages (from scikit-learn) (3.2.0)\n",
      "Requirement already satisfied: packaging>=21.3 in /srv/conda/lib/python3.9/site-packages (from statsmodels) (21.3)\n",
      "Requirement already satisfied: patsy>=0.5.2 in /srv/conda/lib/python3.9/site-packages (from statsmodels) (0.5.3)\n",
      "Requirement already satisfied: pyparsing!=3.0.5,>=2.0.2 in /srv/conda/lib/python3.9/site-packages (from packaging>=21.3->statsmodels) (3.1.1)\n",
      "Requirement already satisfied: six in /srv/conda/lib/python3.9/site-packages (from patsy>=0.5.2->statsmodels) (1.16.0)\n",
      "Note: you may need to restart the kernel to use updated packages.\n"
     ]
    }
   ],
   "source": [
    "pip install pandas scikit-learn statsmodels"
   ]
  },
  {
   "cell_type": "markdown",
   "id": "01242be1",
   "metadata": {},
   "source": [
    "# Set Up"
   ]
  },
  {
   "cell_type": "code",
   "execution_count": 144,
   "id": "9ffb9e4c",
   "metadata": {},
   "outputs": [],
   "source": [
    "import pandas as pd\n",
    "import numpy as np\n",
    "from sklearn.model_selection import train_test_split\n",
    "from sklearn.preprocessing import StandardScaler, OneHotEncoder\n",
    "from sklearn.compose import ColumnTransformer\n",
    "import statsmodels.api as sm\n",
    "from sklearn.metrics import mean_squared_error, r2_score"
   ]
  },
  {
   "cell_type": "markdown",
   "id": "9b6dc005",
   "metadata": {},
   "source": [
    "# Load the Dataset"
   ]
  },
  {
   "cell_type": "code",
   "execution_count": 145,
   "id": "66bffab8",
   "metadata": {
    "scrolled": false
   },
   "outputs": [],
   "source": [
    "# Load the dataset\n",
    "df = pd.read_csv('NBA_Player_Salary_2022_2023.csv')\n",
    "df = df[df['Salary'] > 1000000]"
   ]
  },
  {
   "cell_type": "markdown",
   "id": "90b6279a",
   "metadata": {},
   "source": [
    "# Feature Engineering"
   ]
  },
  {
   "cell_type": "code",
   "execution_count": 146,
   "id": "e9c36db2",
   "metadata": {},
   "outputs": [
    {
     "name": "stderr",
     "output_type": "stream",
     "text": [
      "/tmp/ipykernel_114/3473210936.py:5: FutureWarning: Dropping of nuisance columns in DataFrame reductions (with 'numeric_only=None') is deprecated; in a future version this will raise TypeError.  Select only valid columns before calling the reduction.\n",
      "  df.fillna(df.mean(), inplace=True)\n",
      "/tmp/ipykernel_114/3473210936.py:9: FutureWarning: Dropping of nuisance columns in DataFrame reductions (with 'numeric_only=None') is deprecated; in a future version this will raise TypeError.  Select only valid columns before calling the reduction.\n",
      "  df.fillna(df.mean(), inplace=True)\n"
     ]
    }
   ],
   "source": [
    "# Create new feature: Game Started / Game Played\n",
    "df['GS/GP'] = df['GS'] / df['GP']\n",
    "\n",
    "# Handling missing values\n",
    "df.fillna(df.mean(), inplace=True)\n",
    "\n",
    "# Handling infinite values\n",
    "df.replace([np.inf, -np.inf], np.nan, inplace=True)\n",
    "df.fillna(df.mean(), inplace=True)\n",
    "\n",
    "df['Position'] = df['Position'].str.split('-').str[0]"
   ]
  },
  {
   "cell_type": "markdown",
   "id": "4cb89d5c",
   "metadata": {},
   "source": [
    "# Feature Selection"
   ]
  },
  {
   "cell_type": "code",
   "execution_count": 147,
   "id": "fff59c3f",
   "metadata": {},
   "outputs": [],
   "source": [
    "selected_features = ['Position', 'Age', 'FGA', 'TOV%', 'PTS', 'PER', 'VORP', 'FG%', 'USG%', 'GS/GP']\n",
    "X = df[selected_features]\n",
    "y = df['Salary']"
   ]
  },
  {
   "cell_type": "code",
   "execution_count": 148,
   "id": "47b4a71b",
   "metadata": {},
   "outputs": [],
   "source": [
    "preprocessor = ColumnTransformer(\n",
    "    transformers=[\n",
    "        ('cat', OneHotEncoder(), ['Position']),\n",
    "        ('num', StandardScaler(), ['Age', 'FGA', 'TOV%', 'PTS', 'PER', 'VORP', 'FG%', 'USG%', 'GS/GP'])\n",
    "    ])\n",
    "\n",
    "# Split the dataset into training and test sets (70:30)\n",
    "X_train, X_test, y_train, y_test = train_test_split(X, y, test_size=0.3, random_state=42)\n"
   ]
  },
  {
   "cell_type": "code",
   "execution_count": 153,
   "id": "50ad009a",
   "metadata": {
    "scrolled": false
   },
   "outputs": [],
   "source": [
    "# Preprocess the training data\n",
    "X_train_transformed = preprocessor.fit_transform(X_train)\n",
    "X_train_transformed = np.nan_to_num(X_train_transformed)\n",
    "\n",
    "# Preprocess the test data\n",
    "X_test_transformed = preprocessor.transform(X_test)\n",
    "X_test_transformed = np.nan_to_num(X_test_transformed)"
   ]
  },
  {
   "cell_type": "code",
   "execution_count": 150,
   "id": "1190739f",
   "metadata": {
    "scrolled": false
   },
   "outputs": [],
   "source": [
    "# Fit the GLM model and proceed with predictions and evaluation\n",
    "glm_model = sm.GLM(y_train, sm.add_constant(X_train_transformed), family=sm.families.Gaussian())\n",
    "glm_results = glm_model.fit()"
   ]
  },
  {
   "cell_type": "code",
   "execution_count": 151,
   "id": "3baeaba5",
   "metadata": {},
   "outputs": [
    {
     "name": "stdout",
     "output_type": "stream",
     "text": [
      "Mean Squared Error: 38244011656143.516\n",
      "R-squared: 0.7315872068392756\n"
     ]
    }
   ],
   "source": [
    "# Predict on the test set and evaluate\n",
    "y_pred = glm_results.predict(sm.add_constant(X_test_transformed))\n",
    "mse = mean_squared_error(y_test, y_pred)\n",
    "r2 = r2_score(y_test, y_pred)\n",
    "\n",
    "print(\"Mean Squared Error:\", mse)\n",
    "print(\"R-squared:\", r2)"
   ]
  },
  {
   "cell_type": "code",
   "execution_count": 152,
   "id": "83b399d7",
   "metadata": {},
   "outputs": [
    {
     "name": "stdout",
     "output_type": "stream",
     "text": [
      "                 Generalized Linear Model Regression Results                  \n",
      "==============================================================================\n",
      "Dep. Variable:                 Salary   No. Observations:                  274\n",
      "Model:                            GLM   Df Residuals:                      260\n",
      "Model Family:                Gaussian   Df Model:                           13\n",
      "Link Function:               identity   Scale:                      4.4051e+13\n",
      "Method:                          IRLS   Log-Likelihood:                -4685.6\n",
      "Date:                Thu, 07 Dec 2023   Deviance:                   1.1453e+16\n",
      "Time:                        18:38:28   Pearson chi2:                 1.15e+16\n",
      "No. Iterations:                     3   Pseudo R-squ. (CS):             0.7941\n",
      "Covariance Type:            nonrobust                                         \n",
      "==============================================================================\n",
      "                 coef    std err          z      P>|z|      [0.025      0.975]\n",
      "------------------------------------------------------------------------------\n",
      "const       7.894e+06   3.37e+05     23.427      0.000    7.23e+06    8.55e+06\n",
      "x1           8.31e+05   1.08e+06      0.768      0.443   -1.29e+06    2.95e+06\n",
      "x2          1.395e+06   8.26e+05      1.688      0.091   -2.24e+05    3.01e+06\n",
      "x3          2.994e+06   9.75e+05      3.071      0.002    1.08e+06     4.9e+06\n",
      "x4          2.528e+06   8.86e+05      2.855      0.004    7.93e+05    4.26e+06\n",
      "x5           1.46e+05   8.08e+05      0.181      0.857   -1.44e+06    1.73e+06\n",
      "x6          3.781e+06   4.13e+05      9.164      0.000    2.97e+06    4.59e+06\n",
      "x7         -2.581e+05   3.23e+06     -0.080      0.936   -6.58e+06    6.07e+06\n",
      "x8           5.37e+05   5.08e+05      1.057      0.290   -4.58e+05    1.53e+06\n",
      "x9          2.479e+06    3.5e+06      0.708      0.479   -4.39e+06    9.34e+06\n",
      "x10          7.85e+05   1.27e+06      0.620      0.535    -1.7e+06    3.27e+06\n",
      "x11         1.063e+06   9.39e+05      1.132      0.258   -7.78e+05     2.9e+06\n",
      "x12        -5.134e+05    8.6e+05     -0.597      0.550    -2.2e+06    1.17e+06\n",
      "x13         2.016e+06   9.98e+05      2.020      0.043    5.96e+04    3.97e+06\n",
      "x14          2.58e+06   7.98e+05      3.233      0.001    1.02e+06    4.14e+06\n",
      "==============================================================================\n"
     ]
    }
   ],
   "source": [
    "print(glm_results.summary())"
   ]
  },
  {
   "cell_type": "code",
   "execution_count": null,
   "id": "3a360af7",
   "metadata": {},
   "outputs": [],
   "source": []
  },
  {
   "cell_type": "code",
   "execution_count": null,
   "id": "4a94a261",
   "metadata": {},
   "outputs": [],
   "source": []
  }
 ],
 "metadata": {
  "kernelspec": {
   "display_name": "Python 3 (ipykernel)",
   "language": "python",
   "name": "python3"
  },
  "language_info": {
   "codemirror_mode": {
    "name": "ipython",
    "version": 3
   },
   "file_extension": ".py",
   "mimetype": "text/x-python",
   "name": "python",
   "nbconvert_exporter": "python",
   "pygments_lexer": "ipython3",
   "version": "3.9.15"
  }
 },
 "nbformat": 4,
 "nbformat_minor": 5
}
